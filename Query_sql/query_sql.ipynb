{
 "cells": [
  {
   "cell_type": "markdown",
   "metadata": {},
   "source": [
    "### Cargamos base de datos"
   ]
  },
  {
   "cell_type": "code",
   "execution_count": 1,
   "metadata": {},
   "outputs": [],
   "source": [
    "import mysql.connector\n",
    "import pandas as pd\n",
    "\n",
    "# Conexión a la base de datos MySQL\n",
    "conn = mysql.connector.connect(\n",
    "    host=\"localhost\",    # El servidor de la base de datos (puede ser \"localhost\")\n",
    "    user=\"root\",   # Tu usuario de MySQL\n",
    "    password=\"root\",  # Tu contraseña de MySQL\n",
    "    database=\"videojuego\"  # El nombre de la base de datos\n",
    ")\n",
    "\n",
    "# Crear un cursor\n",
    "cursor = conn.cursor()"
   ]
  },
  {
   "cell_type": "code",
   "execution_count": 2,
   "metadata": {},
   "outputs": [],
   "source": [
    "query_hallOfFame = '''\n",
    "SELECT webuser.userName, webuser.email, webuser.country, completeddungeons.time, dungeon.idD, dungeon.name, completeddungeons.date\n",
    "FROM completeddungeons\n",
    "INNER JOIN webuser on completeddungeons.email = webuser.email\n",
    "INNER JOIN dungeon ON completeddungeons.idD = dungeon.IdD\n",
    "'''\n",
    "\n",
    "# Consulta para hall of fame\n",
    "cursor.execute(query_hallOfFame)\n",
    "resultados_hallOfFame = cursor.fetchall()\n",
    "columnas_hallOfFame = [desc[0] for desc in cursor.description]\n",
    "df_hallOfFame = pd.DataFrame(resultados_hallOfFame, columns=columnas_hallOfFame)\n",
    "df_hallOfFame.to_csv('resultados/hall_of_fame.csv', index=False, encoding='utf-8')\n"
   ]
  },
  {
   "cell_type": "code",
   "execution_count": 3,
   "metadata": {},
   "outputs": [],
   "source": [
    "\n",
    "query_estadisticas = '''\n",
    "SELECT webuser.userName, completeddungeons.idD, completeddungeons.time, completeddungeons.date\n",
    "FROM completeddungeons\n",
    "INNER JOIN webuser on completeddungeons.email = webuser.email\n",
    "'''\n",
    "\n",
    "# Consulta para estadísticas\n",
    "cursor.execute(query_estadisticas)\n",
    "resultados_estadisticas = cursor.fetchall()\n",
    "columnas_estadisticas = [desc[0] for desc in cursor.description]\n",
    "df_estadisticas = pd.DataFrame(resultados_estadisticas, columns=columnas_estadisticas)\n",
    "df_estadisticas.to_csv('resultados/estadisticas.csv', index=False, encoding='utf-8')\n"
   ]
  },
  {
   "cell_type": "code",
   "execution_count": 4,
   "metadata": {},
   "outputs": [],
   "source": [
    "query_hordas = '''\n",
    "SELECT webuser.userName, webuser.email, webuser.country, kills.idE, COUNT(DISTINCT kills.idK) AS num_kills\n",
    "FROM kills\n",
    "INNER JOIN webuser on kills.email = webuser.email\n",
    "GROUP BY webuser.userName, webuser.email, webuser.country, kills.idE\n",
    "'''\n",
    "\n",
    "# Consulta para hordas\n",
    "cursor.execute(query_hordas)\n",
    "resultados_hordas = cursor.fetchall()\n",
    "columnas_hordas = [desc[0] for desc in cursor.description]\n",
    "df_hordas = pd.DataFrame(resultados_hordas, columns=columnas_hordas)\n",
    "df_hordas.to_csv('resultados/hordas.csv', index=False, encoding='utf-8')"
   ]
  },
  {
   "cell_type": "code",
   "execution_count": 5,
   "metadata": {},
   "outputs": [],
   "source": [
    "query_dungeons = '''\n",
    "SELECT dungeon.idD, dungeon.name\n",
    "FROM dungeon\n",
    "'''\n",
    "\n",
    "# Consulta para hordas\n",
    "cursor.execute(query_dungeons)\n",
    "resultados_hordas = cursor.fetchall()\n",
    "columnas_hordas = [desc[0] for desc in cursor.description]\n",
    "df_hordas = pd.DataFrame(resultados_hordas, columns=columnas_hordas)\n",
    "df_hordas.to_csv('resultados/dungeons.csv', index=False, encoding='utf-8')"
   ]
  },
  {
   "cell_type": "code",
   "execution_count": 6,
   "metadata": {},
   "outputs": [],
   "source": [
    "query_usuarios = '''\n",
    "SELECT webuser.email, webuser.username, webuser.country\n",
    "FROM webuser\n",
    "'''\n",
    "\n",
    "# Consulta para hordas\n",
    "cursor.execute(query_usuarios)\n",
    "resultados_hordas = cursor.fetchall()\n",
    "columnas_hordas = [desc[0] for desc in cursor.description]\n",
    "df_hordas = pd.DataFrame(resultados_hordas, columns=columnas_hordas)\n",
    "df_hordas.to_csv('resultados/usuarios.csv', index=False, encoding='utf-8')"
   ]
  },
  {
   "cell_type": "code",
   "execution_count": 7,
   "metadata": {},
   "outputs": [],
   "source": [
    "# Cerrar el cursor y la conexión\n",
    "cursor.close()\n",
    "conn.close()"
   ]
  }
 ],
 "metadata": {
  "kernelspec": {
   "display_name": "Python 3",
   "language": "python",
   "name": "python3"
  },
  "language_info": {
   "codemirror_mode": {
    "name": "ipython",
    "version": 3
   },
   "file_extension": ".py",
   "mimetype": "text/x-python",
   "name": "python",
   "nbconvert_exporter": "python",
   "pygments_lexer": "ipython3",
   "version": "3.11.9"
  }
 },
 "nbformat": 4,
 "nbformat_minor": 2
}
