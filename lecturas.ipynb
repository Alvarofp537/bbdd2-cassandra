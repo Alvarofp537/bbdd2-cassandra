{
 "cells": [
  {
   "cell_type": "code",
   "execution_count": null,
   "metadata": {},
   "outputs": [],
   "source": [
    "import json\n",
    "from cassandra.cluster import Cluster\n",
    "from collections import defaultdict\n",
    "\n",
    "cluster_ip=\"CAMBIAR\""
   ]
  },
  {
   "cell_type": "markdown",
   "metadata": {},
   "source": [
    "## Lectura hall of fame"
   ]
  },
  {
   "cell_type": "code",
   "execution_count": null,
   "metadata": {},
   "outputs": [],
   "source": [
    "def get_hall_of_fame(country: str):\n",
    "    # Conectar a Cassandra\n",
    "    cluster = Cluster([cluster_ip])\n",
    "    session = cluster.connect('videojuego') \n",
    "\n",
    "    # Establecer consistencia más fuerte\n",
    "    # podríamos usar locar ya que en la práctica todo se ubica en el mismo datacenter, pero para facilitar la escalabilidad dejamos Quorum \n",
    "    session.default_consistency_level = \"QUORUM\"\n",
    "\n",
    "    # Query \n",
    "    query = \"\"\"\n",
    "        SELECT Mazmorra_id, Nombre_mazmorra, Email, Nombre_usuario, Tiempo, Fecha \n",
    "        FROM Hall_of_fame \n",
    "        WHERE Pais = %s;\n",
    "    \"\"\"\n",
    "    \n",
    "    rows = session.execute(query, (country,))\n",
    "    \n",
    "    # Organizar datos en un diccionario agrupado por Mazmorra_id\n",
    "    dungeon_dict = defaultdict(lambda: {\"dungeon_id\": 0, \"dungeon_name\": \"\", \"Top_5\": []})\n",
    "\n",
    "    for row in rows:\n",
    "        dungeon_id = row.Mazmorra_id\n",
    "        dungeon_dict[dungeon_id][\"dungeon_id\"] = dungeon_id\n",
    "        dungeon_dict[dungeon_id][\"dungeon_name\"] = row.Nombre_mazmorra\n",
    "        dungeon_dict[dungeon_id][\"Top_5\"].append({\n",
    "            \"email\": row.Email,\n",
    "            \"user_name\": row.Nombre_usuario,\n",
    "            \"time_minutes\": row.Tiempo,\n",
    "            \"date\": row.Fecha\n",
    "        })\n",
    "    \n",
    "    result = json.dumps(list(dungeon_dict.values()), indent=4)  \n",
    "    return result\n"
   ]
  },
  {
   "cell_type": "code",
   "execution_count": null,
   "metadata": {},
   "outputs": [],
   "source": [
    "# Ejemplo de uso\n",
    "country = \"España\"\n",
    "top_players = get_hall_of_fame(country)\n",
    "print(top_players)\n"
   ]
  },
  {
   "cell_type": "markdown",
   "metadata": {},
   "source": [
    "## Lectura Statistics"
   ]
  },
  {
   "cell_type": "code",
   "execution_count": null,
   "metadata": {},
   "outputs": [],
   "source": [
    "def get_user_statistics(user_email: str, dungeon_id: int):\n",
    "    # Conectar a Cassandra\n",
    "    cluster = Cluster([cluster_ip]) \n",
    "    session = cluster.connect('videojuego') \n",
    "\n",
    "    # Establecer consistencia más fuerte\n",
    "    session.default_consistency_level = \"QUORUM\"\n",
    "    \n",
    "    # Query \n",
    "    query = \"\"\"\n",
    "        SELECT Tiempo, Fecha \n",
    "        FROM Statistic \n",
    "        WHERE Email = %s AND Mazmorra_id = %s;\n",
    "    \"\"\"\n",
    "    \n",
    "    rows = session.execute(query, (user_email, dungeon_id))\n",
    "    \n",
    "    # converitr a lista de diccionarios\n",
    "    result = [{\"time_minute\": row.Tiempo, \"date\": row.Fecha} for row in rows]\n",
    "    \n",
    "    # Convertir a JSON\n",
    "    return json.dumps(result, indent=4)\n"
   ]
  },
  {
   "cell_type": "code",
   "execution_count": null,
   "metadata": {},
   "outputs": [],
   "source": [
    "# Ejemplo de uso\n",
    "user_email = \"user1@mail.com\"\n",
    "dungeon_id = 1\n",
    "statistics_json = get_user_statistics(user_email, dungeon_id)\n",
    "print(statistics_json)\n"
   ]
  },
  {
   "cell_type": "markdown",
   "metadata": {},
   "source": [
    "## Lectura Top horde"
   ]
  },
  {
   "cell_type": "code",
   "execution_count": null,
   "metadata": {},
   "outputs": [],
   "source": [
    "def get_top_horde(country: str, event_id: int, k: int):\n",
    "    # Conectar a Cassandra\n",
    "    cluster = Cluster([cluster_ip])  \n",
    "    session = cluster.connect('videojuego')  \n",
    "\n",
    "    # Reducimos consistencia para asegurar velocidad en las lecturas\n",
    "    session.default_consistency_level = 1\n",
    "\n",
    "    # Query optimizada\n",
    "    query = \"\"\"\n",
    "        SELECT Email, Nombre_usuario, N_killed \n",
    "        FROM Top_horde \n",
    "        WHERE Evento_id = %s AND Pais = %s \n",
    "        LIMIT %s;\n",
    "    \"\"\"\n",
    "    \n",
    "    rows = session.execute(query, (event_id, country, k))\n",
    "    \n",
    "    # Convertir a lista de diccionarios\n",
    "    result = [\n",
    "        {\n",
    "            \"user_id\": idx + 1,  # Asignamos un ranking (opcional)\n",
    "            \"user_name\": row.Nombre_usuario,\n",
    "            \"email\": row.Email,\n",
    "            \"n_killed\": row.N_killed\n",
    "        }\n",
    "        for idx, row in enumerate(rows)\n",
    "    ]\n",
    "\n",
    "    # Convertir a JSON\n",
    "    return json.dumps(result, indent=4)\n"
   ]
  },
  {
   "cell_type": "code",
   "execution_count": null,
   "metadata": {},
   "outputs": [],
   "source": [
    "# Ejemplo de uso\n",
    "country = \"España\"\n",
    "event_id = 1\n",
    "k = 3\n",
    "top_horde_json = get_top_horde(country, event_id, k)\n",
    "print(top_horde_json)\n"
   ]
  }
 ],
 "metadata": {
  "kernelspec": {
   "display_name": "Python 3",
   "language": "python",
   "name": "python3"
  },
  "language_info": {
   "name": "python",
   "version": "3.11.5"
  }
 },
 "nbformat": 4,
 "nbformat_minor": 2
}
