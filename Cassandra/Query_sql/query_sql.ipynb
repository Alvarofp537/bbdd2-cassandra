{
 "cells": [
  {
   "cell_type": "markdown",
   "metadata": {},
   "source": [
    "### Cargamos base de datos"
   ]
  },
  {
   "cell_type": "code",
   "execution_count": 1,
   "metadata": {},
   "outputs": [],
   "source": [
    "import mysql.connector\n",
    "import pandas as pd\n",
    "\n",
    "# Conexión a la base de datos MySQL\n",
    "conn = mysql.connector.connect(\n",
    "    host=\"localhost\",    # El servidor de la base de datos (puede ser \"localhost\")\n",
    "    user=\"root\",   # Tu usuario de MySQL\n",
    "    password=\"root\",  # Tu contraseña de MySQL\n",
    "    database=\"videojuego\"  # El nombre de la base de datos\n",
    ")\n",
    "\n",
    "# Crear un cursor\n",
    "cursor = conn.cursor()"
   ]
  },
  {
   "cell_type": "markdown",
   "metadata": {},
   "source": [
    "### Query obtener datos Hall of Fame"
   ]
  },
  {
   "cell_type": "code",
   "execution_count": 2,
   "metadata": {},
   "outputs": [],
   "source": [
    "query_hallOfFame = '''\n",
    "SELECT webuser.userName, webuser.email, webuser.country, completeddungeons.time, dungeon.idD, dungeon.name, completeddungeons.date\n",
    "FROM completeddungeons\n",
    "INNER JOIN webuser on completeddungeons.email = webuser.email\n",
    "INNER JOIN dungeon ON completeddungeons.idD = dungeon.IdD;\n",
    "'''\n",
    "\n",
    "# Consulta para hall of fame\n",
    "cursor.execute(query_hallOfFame)\n",
    "resultados_hallOfFame = cursor.fetchall()\n",
    "columnas_hallOfFame = [desc[0] for desc in cursor.description]\n",
    "df_hallOfFame = pd.DataFrame(resultados_hallOfFame, columns=columnas_hallOfFame)\n",
    "df_hallOfFame.to_csv('resultados/hall_of_fame.csv', index=False, encoding='utf-8')\n"
   ]
  },
  {
   "cell_type": "code",
   "execution_count": 5,
   "metadata": {},
   "outputs": [
    {
     "name": "stdout",
     "output_type": "stream",
     "text": [
      "Archivo guardado como 'resultados/hall_of_fame_top5.csv' con los 5 mejores tiempos por mazmorra.\n"
     ]
    }
   ],
   "source": [
    "import pandas as pd\n",
    "\n",
    "# Carga el archivo original\n",
    "input_file = 'resultados/hall_of_fame.csv'\n",
    "output_file = 'resultados/hall_of_fame_top5.csv'\n",
    "\n",
    "# Leer el archivo CSV\n",
    "data = pd.read_csv(input_file)\n",
    "\n",
    "data = data[data['time'] != 0]\n",
    "# Convertir la columna \"time\" a tipo entero para ordenar correctamente\n",
    "data['time'] = data['time'].astype(float)\n",
    "\n",
    "# Ordenar los datos por idD y time, y luego seleccionar los 5 mejores tiempos por cada idD\n",
    "top5 = data.sort_values(by=['idD', 'time']).groupby(['idD', 'country']).head(5)\n",
    "\n",
    "# Guardar el resultado en un nuevo archivo CSV\n",
    "top5.to_csv(output_file, index=False)\n",
    "\n",
    "print(f\"Archivo guardado como '{output_file}' con los 5 mejores tiempos por mazmorra.\")\n"
   ]
  },
  {
   "cell_type": "code",
   "execution_count": null,
   "metadata": {},
   "outputs": [
    {
     "data": {
      "text/plain": [
       "(idD\n",
       " 0     55\n",
       " 1     55\n",
       " 18    55\n",
       " 17    55\n",
       " 16    55\n",
       " 15    55\n",
       " 14    55\n",
       " 13    55\n",
       " 12    55\n",
       " 11    55\n",
       " 10    55\n",
       " 9     55\n",
       " 8     55\n",
       " 7     55\n",
       " 6     55\n",
       " 5     55\n",
       " 4     55\n",
       " 3     55\n",
       " 2     55\n",
       " 19    55\n",
       " Name: count, dtype: int64,\n",
       " 20)"
      ]
     },
     "execution_count": 14,
     "metadata": {},
     "output_type": "execute_result"
    }
   ],
   "source": [
    "df = pd.read_csv(output_file)\n",
    "df.idD.value_counts()"
   ]
  },
  {
   "cell_type": "markdown",
   "metadata": {},
   "source": [
    "### Query obtener datos Estadísticas"
   ]
  },
  {
   "cell_type": "code",
   "execution_count": 15,
   "metadata": {},
   "outputs": [],
   "source": [
    "resultados_estadisticas = data[['email', 'idD', 'time', 'date']]\n",
    "resultados_estadisticas.to_csv('resultados/estadisticas.csv', index=False, encoding='utf-8')"
   ]
  },
  {
   "cell_type": "markdown",
   "metadata": {},
   "source": [
    "### Query obtener datos Hordas"
   ]
  },
  {
   "cell_type": "code",
   "execution_count": 4,
   "metadata": {},
   "outputs": [],
   "source": [
    "query_hordas = '''\n",
    "SELECT webuser.userName, webuser.email, webuser.country, kills.idE, COUNT(DISTINCT kills.idK) AS num_kills\n",
    "FROM kills\n",
    "INNER JOIN webuser on kills.email = webuser.email\n",
    "GROUP BY webuser.userName, webuser.email, webuser.country, kills.idE\n",
    "'''\n",
    "\n",
    "# Consulta para hordas\n",
    "cursor.execute(query_hordas)\n",
    "resultados_hordas = cursor.fetchall()\n",
    "columnas_hordas = [desc[0] for desc in cursor.description]\n",
    "df_hordas = pd.DataFrame(resultados_hordas, columns=columnas_hordas)\n",
    "df_hordas.to_csv('resultados/hordas.csv', index=False, encoding='utf-8')"
   ]
  },
  {
   "cell_type": "code",
   "execution_count": 5,
   "metadata": {},
   "outputs": [],
   "source": [
    "query_dungeons = '''\n",
    "SELECT dungeon.idD, dungeon.name\n",
    "FROM dungeon\n",
    "'''\n",
    "\n",
    "# Consulta para hordas\n",
    "cursor.execute(query_dungeons)\n",
    "resultados_hordas = cursor.fetchall()\n",
    "columnas_hordas = [desc[0] for desc in cursor.description]\n",
    "df_hordas = pd.DataFrame(resultados_hordas, columns=columnas_hordas)\n",
    "df_hordas.to_csv('resultados/dungeons.csv', index=False, encoding='utf-8')"
   ]
  },
  {
   "cell_type": "code",
   "execution_count": 6,
   "metadata": {},
   "outputs": [],
   "source": [
    "query_usuarios = '''\n",
    "SELECT webuser.email, webuser.username, webuser.country\n",
    "FROM webuser\n",
    "'''\n",
    "\n",
    "# Consulta para hordas\n",
    "cursor.execute(query_usuarios)\n",
    "resultados_hordas = cursor.fetchall()\n",
    "columnas_hordas = [desc[0] for desc in cursor.description]\n",
    "df_hordas = pd.DataFrame(resultados_hordas, columns=columnas_hordas)\n",
    "df_hordas.to_csv('resultados/usuarios.csv', index=False, encoding='utf-8')"
   ]
  },
  {
   "cell_type": "code",
   "execution_count": 16,
   "metadata": {},
   "outputs": [],
   "source": [
    "# Cerrar el cursor y la conexión\n",
    "cursor.close()\n",
    "conn.close()"
   ]
  }
 ],
 "metadata": {
  "kernelspec": {
   "display_name": "Python 3",
   "language": "python",
   "name": "python3"
  },
  "language_info": {
   "codemirror_mode": {
    "name": "ipython",
    "version": 3
   },
   "file_extension": ".py",
   "mimetype": "text/x-python",
   "name": "python",
   "nbconvert_exporter": "python",
   "pygments_lexer": "ipython3",
   "version": "3.11.9"
  }
 },
 "nbformat": 4,
 "nbformat_minor": 2
}
