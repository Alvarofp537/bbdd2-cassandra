{
 "cells": [
  {
   "cell_type": "markdown",
   "metadata": {},
   "source": [
    "## Conectar a la base de datos"
   ]
  },
  {
   "cell_type": "code",
   "execution_count": 1,
   "metadata": {},
   "outputs": [],
   "source": [
    "from cassandra.cluster import Cluster\n",
    "from cassandra import ConsistencyLevel\n",
    "from cassandra.query import BatchStatement, SimpleStatement\n",
    "\n",
    "from datetime import datetime\n",
    "\n",
    "# Conexión al clúster de Cassandra con los nombres de host de tus nodos\n",
    "cluster = Cluster(['127.0.0.1'], port=9042)\n",
    "\n",
    "# Crear una sesión\n",
    "session = cluster.connect()\n",
    "\n",
    "# Seleccionar el keyspace\n",
    "session.set_keyspace('videojuego')"
   ]
  },
  {
   "cell_type": "markdown",
   "metadata": {},
   "source": [
    "## User finish dungeon"
   ]
  },
  {
   "cell_type": "code",
   "execution_count": null,
   "metadata": {},
   "outputs": [],
   "source": [
    "# Entrada\n",
    "dungeon_id: int = 6\n",
    "date: str = datetime.now().strftime('%Y-%m-%d %H:%M:%S')\n",
    "time_minutes: float = 0.3\n",
    "email: str = 'ansaldo75@example.net'"
   ]
  },
  {
   "cell_type": "code",
   "execution_count": 4,
   "metadata": {},
   "outputs": [],
   "source": [
    "def finish_dungeon(session, dungeon_id, date, time_minutes, email):\n",
    "    # Establecer consistencia más fuerte\n",
    "    # session.default_consistency_level = ConsistencyLevel.ALL\n",
    "\n",
    "    #encontrar el pais del usuario. consistencia quorum para punto medio entre velocidad y consistencia\n",
    "    pais, nombre = session.execute(SimpleStatement('SELECT Pais, Nombre_usuario FROM Usuarios WHERE Email=%s;',consistency_level=ConsistencyLevel.QUORUM), (email, )).one()\n",
    "\n",
    "    # Hall of Fame\n",
    "    rows = session.execute(SimpleStatement('SELECT Email, Tiempo, Nombre_mazmorra FROM Hall_of_fame WHERE Mazmorra_id=%s AND Pais=%s;',consistency_level=ConsistencyLevel.ALL), (dungeon_id,pais, ))\n",
    "    Nombre_mazmorra = rows.one().nombre_mazmorra\n",
    "    min_time = time_minutes\n",
    "    min_row = None\n",
    "\n",
    "    for row in rows:  # Buscar el peor tiempo en el Top 5\n",
    "        if row[1] > min_time:\n",
    "            min_row = row\n",
    "            min_time = row.tiempo\n",
    "\n",
    "    if min_row is not None:  # Si entra en el Top 5\n",
    "        # Eliminar el tiempo más alto (el peor tiempo en el Top 5)\n",
    "        delete_query = SimpleStatement('DELETE FROM Hall_of_fame WHERE Mazmorra_id=%s AND Email=%s AND Pais=%s AND Tiempo=%s',consistency_level=ConsistencyLevel.ALL)\n",
    "        session.execute(delete_query, (dungeon_id, min_row.email, pais, min_row.tiempo))\n",
    "\n",
    "\n",
    "        insert_query = SimpleStatement('INSERT INTO Hall_of_fame (Pais, Mazmorra_id, Email, Nombre_usuario, Tiempo, Fecha, Nombre_mazmorra) VALUES (%s, %s, %s, %s, %s, %s, %s)',consistency_level=ConsistencyLevel.ALL)\n",
    "        session.execute(insert_query, (pais, dungeon_id, email, nombre, time_minutes, date, Nombre_mazmorra))\n",
    "        print('Quitamos último, metemos al nuevo')\n",
    "    else:\n",
    "        print('No está en top 5')\n",
    "\n",
    "\n",
    "    # Estadísticas\n",
    "    insert_query = SimpleStatement('INSERT INTO Statistic (Email, Mazmorra_id, Tiempo, Fecha) VALUES (%s, %s, %s, %s)', consistency_level=ConsistencyLevel.ALL)\n",
    "    session.execute(insert_query, (email, dungeon_id, time_minutes, date))\n",
    "    print('Estadísticas actualizadas')\n"
   ]
  },
  {
   "cell_type": "code",
   "execution_count": 5,
   "metadata": {},
   "outputs": [
    {
     "name": "stdout",
     "output_type": "stream",
     "text": [
      "Quitamos último, metemos al nuevo\n",
      "Estadísticas actualizadas\n"
     ]
    }
   ],
   "source": [
    "finish_dungeon(session, dungeon_id, date, time_minutes, email)"
   ]
  },
  {
   "cell_type": "markdown",
   "metadata": {},
   "source": [
    "## User kills monster during Horde event"
   ]
  },
  {
   "cell_type": "code",
   "execution_count": 6,
   "metadata": {},
   "outputs": [],
   "source": [
    "# Entrada\n",
    "event_id: int =  2\n",
    "email: str = 'ymurakami@example.com'\n",
    "monster_id = 2"
   ]
  },
  {
   "cell_type": "code",
   "execution_count": 7,
   "metadata": {},
   "outputs": [],
   "source": [
    "def kill_monster(session, event_id, email, monster_id):\n",
    "    # Establecer consistencia baja para maximizar la velocidad\n",
    "    # session.default_consistency_level = ConsistencyLevel.ONE\n",
    "    # Obtener la información del usuario desde la tabla Usuarios\n",
    "    datos_user = session.execute(SimpleStatement('SELECT Pais, Nombre_usuario FROM Usuarios WHERE Email=%s', consistency_level=ConsistencyLevel.ONE), (email,))\n",
    "    if not datos_user:\n",
    "        print(\"No se encontró al usuario con el email proporcionado.\")\n",
    "        return\n",
    "    \n",
    "    pais, nombre = datos_user.one()  # Recuperar el país y nombre del usuario\n",
    "\n",
    "    # Incrementar el contador de kills en la tabla Top_horde\n",
    "    # Si el registro ya existe, usamos UPDATE, si no, INSERTAMOS un nuevo registro.\n",
    "    query_check = SimpleStatement('SELECT N_killed FROM Top_horde WHERE Evento_id=%s AND Pais=%s AND Email=%s ALLOW FILTERING;', consistency_level=ConsistencyLevel.ONE)\n",
    "    rows = session.execute(query_check, (event_id, pais, email))\n",
    "\n",
    "    # session.default_consistency_level = ConsistencyLevel.ANY\n",
    "    if rows:  # Si ya existe el registro, incrementamos N_killed\n",
    "        current_kills = rows.one().n_killed\n",
    "\n",
    "        # Preparar las consultas\n",
    "        query_delete = SimpleStatement('DELETE FROM Top_horde WHERE Evento_id=%s AND Pais=%s AND N_killed= %s AND Email=%s', consistency_level=ConsistencyLevel.ANY)\n",
    "        query_insert = SimpleStatement('INSERT INTO Top_horde (Evento_id, Pais, Email, N_killed, Nombre_usuario) VALUES (%s, %s, %s, %s, %s)', consistency_level=ConsistencyLevel.ANY)\n",
    "        \n",
    "        # Crear un objeto Batch\n",
    "        batch = BatchStatement()\n",
    "\n",
    "        # Añadir las operaciones al batch\n",
    "        batch.add(query_delete, (event_id, pais, current_kills, email))\n",
    "        batch.add(query_insert, (event_id, pais, email, current_kills + 1, nombre))\n",
    "\n",
    "        # Ejecutar el batch\n",
    "        session.execute(batch)\n",
    "\n",
    "\n",
    "        print(\"Incrementamos el contador de kills en Top_horde.\")\n",
    "    else:  # Si no existe, lo creamos con un INSERT\n",
    "        query_insert = SimpleStatement('INSERT INTO Top_horde (Evento_id, Pais, N_killed, Email, Nombre_usuario) VALUES (%s, %s, %s, %s, %s)', consistency_level=ConsistencyLevel.ANY)\n",
    "        session.execute(query_insert, (event_id, pais, 1, email, nombre))\n",
    "        print(\"Añadimos un nuevo registro en Top_horde con el primer kill.\")\n",
    "\n",
    "    # Mensaje de confirmación\n",
    "    print(f'Añadimos la kill de {monster_id} para el usuario:', email)"
   ]
  },
  {
   "cell_type": "code",
   "execution_count": 8,
   "metadata": {},
   "outputs": [
    {
     "name": "stdout",
     "output_type": "stream",
     "text": [
      "Incrementamos el contador de kills en Top_horde.\n",
      "Añadimos la kill de 2 para el usuario: ymurakami@example.com\n"
     ]
    }
   ],
   "source": [
    "kill_monster(session, event_id, email, monster_id)"
   ]
  },
  {
   "cell_type": "markdown",
   "metadata": {},
   "source": [
    "## Cerramos conexión"
   ]
  },
  {
   "cell_type": "code",
   "execution_count": 9,
   "metadata": {},
   "outputs": [],
   "source": [
    "# Cerrar la conexión\n",
    "cluster.shutdown()"
   ]
  }
 ],
 "metadata": {
  "kernelspec": {
   "display_name": "Python 3",
   "language": "python",
   "name": "python3"
  },
  "language_info": {
   "codemirror_mode": {
    "name": "ipython",
    "version": 3
   },
   "file_extension": ".py",
   "mimetype": "text/x-python",
   "name": "python",
   "nbconvert_exporter": "python",
   "pygments_lexer": "ipython3",
   "version": "3.11.5"
  }
 },
 "nbformat": 4,
 "nbformat_minor": 2
}
