{
 "cells": [
  {
   "cell_type": "markdown",
   "metadata": {},
   "source": [
    "## Conectar a la base de datos"
   ]
  },
  {
   "cell_type": "code",
   "execution_count": 13,
   "metadata": {},
   "outputs": [],
   "source": [
    "from cassandra.cluster import Cluster\n",
    "from cassandra import ConsistencyLevel\n",
    "from cassandra.query import SimpleStatement\n",
    "\n",
    "# Conexión al clúster de Cassandra con los nombres de host de tus nodos\n",
    "cluster = Cluster(['127.0.0.1'], port=9042)\n",
    "\n",
    "# Crear una sesión\n",
    "session = cluster.connect()\n",
    "\n",
    "# Seleccionar el keyspace (si ya tienes uno creado)\n",
    "session.set_keyspace('videojuego')"
   ]
  },
  {
   "cell_type": "markdown",
   "metadata": {},
   "source": [
    "## User finish dungeon"
   ]
  },
  {
   "cell_type": "code",
   "execution_count": 2,
   "metadata": {},
   "outputs": [],
   "source": [
    "# Entrada\n",
    "dungeon_id: int = 0\n",
    "date: str = '2020-04-18 04:46:20'\n",
    "time_minutes: float = 0.1\n",
    "email: str = 'aaoki@example.com'"
   ]
  },
  {
   "cell_type": "code",
   "execution_count": null,
   "metadata": {},
   "outputs": [],
   "source": [
    "def finish_dungeon(session, dungeon_id, date, time_minutes, email):\n",
    "    # Establecer consistencia más fuerte\n",
    "    # session.default_consistency_level = ConsistencyLevel.ALL\n",
    "\n",
    "    # Hall of Fame\n",
    "    rows = session.execute(SimpleStatement('SELECT Email, Tiempo, Nombre_mazmorra, Pais FROM Hall_of_fame WHERE Mazmorra_id=%s ALLOW FILTERING;',consistency_level=ConsistencyLevel.ALL), (dungeon_id, ))\n",
    "    Nombre_mazmorra = rows.one().nombre_mazmorra\n",
    "    min_time = time_minutes\n",
    "    min_row = None\n",
    "\n",
    "    for row in rows:  # Buscar el peor tiempo en el Top 5\n",
    "        if row[1] > min_time:\n",
    "            min_row = row\n",
    "            min_time = row.tiempo\n",
    "    \n",
    "    if min_row is not None:  # Si entra en el Top 5\n",
    "        # Eliminar el tiempo más alto (el peor tiempo en el Top 5)\n",
    "        delete_query = SimpleStatement('DELETE FROM Hall_of_fame WHERE Mazmorra_id=%s AND Email=%s AND Pais=%s',consistency_level=ConsistencyLevel.ALL)\n",
    "        session.execute(delete_query, (dungeon_id, min_row.email, min_row.pais))\n",
    "\n",
    "        # Insertar el nuevo tiempo\n",
    "        datos_user = session.execute(SimpleStatement('SELECT Pais, Nombre_usuario FROM Usuarios WHERE Email=%s',consistency_level=ConsistencyLevel.ALL), (email, ))\n",
    "        pais, nombre = datos_user.one()\n",
    "\n",
    "        insert_query = SimpleStatement('INSERT INTO Hall_of_fame (Pais, Mazmorra_id, Email, Nombre_usuario, Tiempo, Fecha, Nombre_mazmorra) VALUES (%s, %s, %s, %s, %s, %s, %s)',consistency_level=ConsistencyLevel.ALL)\n",
    "        session.execute(insert_query, (pais, dungeon_id, email, nombre, time_minutes, date, Nombre_mazmorra))\n",
    "        print('Quitamos último, metemos al nuevo')\n",
    "    else:\n",
    "        print('No está en top 5')\n",
    "\n",
    "\n",
    "    # Estadísticas\n",
    "    insert_query = SimpleStatement('INSERT INTO Statistic (Email, Mazmorra_id, Tiempo, Fecha) VALUES (%s, %s, %s, %s)', consistency_level=ConsistencyLevel.ALL)\n",
    "    session.execute(insert_query, (email, dungeon_id, time_minutes, date))\n",
    "    print('Estadísticas actualizadas')\n"
   ]
  },
  {
   "cell_type": "code",
   "execution_count": 4,
   "metadata": {},
   "outputs": [
    {
     "name": "stderr",
     "output_type": "stream",
     "text": [
      "/tmp/ipykernel_406349/3377718518.py:3: DeprecationWarning: Setting the consistency level at the session level will be removed in 4.0. Consider using execution profiles and setting the desired consistency level to the EXEC_PROFILE_DEFAULT profile.\n",
      "  session.default_consistency_level = ConsistencyLevel.ALL\n"
     ]
    },
    {
     "name": "stdout",
     "output_type": "stream",
     "text": [
      "Quitamos último, metemos al nuevo\n",
      "Estadísticas actualizadas\n"
     ]
    }
   ],
   "source": [
    "finish_dungeon(session, dungeon_id, date, time_minutes, email)"
   ]
  },
  {
   "cell_type": "markdown",
   "metadata": {},
   "source": [
    "## User kills monster during Horde event"
   ]
  },
  {
   "cell_type": "code",
   "execution_count": 10,
   "metadata": {},
   "outputs": [],
   "source": [
    "# Entrada\n",
    "event_id: int =  2\n",
    "email: str = 'jyamashita@example.org'\n",
    "monster_id = 2"
   ]
  },
  {
   "cell_type": "code",
   "execution_count": null,
   "metadata": {},
   "outputs": [],
   "source": [
    "def kill_monster(session, event_id, email, monster_id):\n",
    "    # Establecer consistencia baja para maximizar la velocidad\n",
    "    # session.default_consistency_level = ConsistencyLevel.ONE\n",
    "    # Obtener la información del usuario desde la tabla Usuarios\n",
    "    datos_user = session.execute(SimpleStatement('SELECT Pais, Nombre_usuario FROM Usuarios WHERE Email=%s', consistency_level=ConsistencyLevel.ONE), (email,))\n",
    "    if not datos_user:\n",
    "        print(\"No se encontró al usuario con el email proporcionado.\")\n",
    "        return\n",
    "    \n",
    "    pais, nombre = datos_user.one()  # Recuperar el país y nombre del usuario\n",
    "\n",
    "    # Incrementar el contador de kills en la tabla Top_horde\n",
    "    # Si el registro ya existe, usamos UPDATE, si no, INSERTAMOS un nuevo registro.\n",
    "    query_check = SimpleStatement('SELECT N_killed FROM Top_horde WHERE Evento_id=%s AND Pais=%s AND Email=%s ALLOW FILTERING;', consistency_level=ConsistencyLevel.ONE)\n",
    "    rows = session.execute(query_check, (event_id, pais, email))\n",
    "\n",
    "    # session.default_consistency_level = ConsistencyLevel.ANY\n",
    "    if rows:  # Si ya existe el registro, incrementamos N_killed\n",
    "        current_kills = rows.one().n_killed\n",
    "        # Eliminar la fila existente\n",
    "        query_delete = SimpleStatement('DELETE FROM Top_horde WHERE Evento_id=%s AND Pais=%s AND N_killed= %s AND Email=%s', consistency_level=ConsistencyLevel.ANY)\n",
    "        session.execute(query_delete, (event_id, pais, current_kills, email))\n",
    "        # Insertar una nueva fila con el valor actualizado\n",
    "        query_insert = SimpleStatement('INSERT INTO Top_horde (Evento_id, Pais, Email, N_killed, Nombre_usuario) VALUES (%s, %s, %s, %s)', consistency_level=ConsistencyLevel.ANY)\n",
    "        session.execute(query_insert, (event_id, pais, email, current_kills + 1, nombre))\n",
    "\n",
    "        print(\"Incrementamos el contador de kills en Top_horde.\")\n",
    "    else:  # Si no existe, lo creamos con un INSERT\n",
    "        query_insert = SimpleStatement('INSERT INTO Top_horde (Evento_id, Pais, N_killed, Email, Nombre_usuario) VALUES (%s, %s, %s, %s, %s)', consistency_level=ConsistencyLevel.ANY)\n",
    "        session.execute(query_insert, (event_id, pais, 1, email, nombre))\n",
    "        print(\"Añadimos un nuevo registro en Top_horde con el primer kill.\")\n",
    "\n",
    "    # Mensaje de confirmación\n",
    "    print('Añadimos la kill para el usuario:', email)"
   ]
  },
  {
   "cell_type": "code",
   "execution_count": 14,
   "metadata": {},
   "outputs": [
    {
     "ename": "InvalidRequest",
     "evalue": "Error from server: code=2200 [Invalid query] message=\"PRIMARY KEY column \"email\" cannot be restricted as preceding column \"n_killed\" is not restricted\"",
     "output_type": "error",
     "traceback": [
      "\u001b[0;31m---------------------------------------------------------------------------\u001b[0m",
      "\u001b[0;31mInvalidRequest\u001b[0m                            Traceback (most recent call last)",
      "Cell \u001b[0;32mIn[14], line 1\u001b[0m\n\u001b[0;32m----> 1\u001b[0m \u001b[43mkill_monster\u001b[49m\u001b[43m(\u001b[49m\u001b[43msession\u001b[49m\u001b[43m,\u001b[49m\u001b[43m \u001b[49m\u001b[43mevent_id\u001b[49m\u001b[43m,\u001b[49m\u001b[43m \u001b[49m\u001b[43memail\u001b[49m\u001b[43m,\u001b[49m\u001b[43m \u001b[49m\u001b[43mmonster_id\u001b[49m\u001b[43m)\u001b[49m\n",
      "Cell \u001b[0;32mIn[11], line 22\u001b[0m, in \u001b[0;36mkill_monster\u001b[0;34m(session, event_id, email, monster_id)\u001b[0m\n\u001b[1;32m     20\u001b[0m \u001b[38;5;66;03m# Eliminar la fila existente\u001b[39;00m\n\u001b[1;32m     21\u001b[0m query_delete \u001b[38;5;241m=\u001b[39m SimpleStatement(\u001b[38;5;124m'\u001b[39m\u001b[38;5;124mDELETE FROM Top_horde WHERE Evento_id=\u001b[39m\u001b[38;5;132;01m%s\u001b[39;00m\u001b[38;5;124m AND Pais=\u001b[39m\u001b[38;5;132;01m%s\u001b[39;00m\u001b[38;5;124m AND Email=\u001b[39m\u001b[38;5;132;01m%s\u001b[39;00m\u001b[38;5;124m'\u001b[39m, consistency_level\u001b[38;5;241m=\u001b[39mConsistencyLevel\u001b[38;5;241m.\u001b[39mANY)\n\u001b[0;32m---> 22\u001b[0m \u001b[43msession\u001b[49m\u001b[38;5;241;43m.\u001b[39;49m\u001b[43mexecute\u001b[49m\u001b[43m(\u001b[49m\u001b[43mquery_delete\u001b[49m\u001b[43m,\u001b[49m\u001b[43m \u001b[49m\u001b[43m(\u001b[49m\u001b[43mevent_id\u001b[49m\u001b[43m,\u001b[49m\u001b[43m \u001b[49m\u001b[43mpais\u001b[49m\u001b[43m,\u001b[49m\u001b[43m \u001b[49m\u001b[43memail\u001b[49m\u001b[43m)\u001b[49m\u001b[43m)\u001b[49m\n\u001b[1;32m     23\u001b[0m \u001b[38;5;66;03m# Insertar una nueva fila con el valor actualizado\u001b[39;00m\n\u001b[1;32m     24\u001b[0m query_insert \u001b[38;5;241m=\u001b[39m SimpleStatement(\u001b[38;5;124m'\u001b[39m\u001b[38;5;124mINSERT INTO Top_horde (Evento_id, Pais, Email, N_killed, Nombre_usuario) VALUES (\u001b[39m\u001b[38;5;132;01m%s\u001b[39;00m\u001b[38;5;124m, \u001b[39m\u001b[38;5;132;01m%s\u001b[39;00m\u001b[38;5;124m, \u001b[39m\u001b[38;5;132;01m%s\u001b[39;00m\u001b[38;5;124m, \u001b[39m\u001b[38;5;132;01m%s\u001b[39;00m\u001b[38;5;124m)\u001b[39m\u001b[38;5;124m'\u001b[39m, consistency_level\u001b[38;5;241m=\u001b[39mConsistencyLevel\u001b[38;5;241m.\u001b[39mANY)\n",
      "File \u001b[0;32m~/python3.12/lib/python3.12/site-packages/cassandra/cluster.py:2677\u001b[0m, in \u001b[0;36mcassandra.cluster.Session.execute\u001b[0;34m()\u001b[0m\n",
      "File \u001b[0;32m~/python3.12/lib/python3.12/site-packages/cassandra/cluster.py:4956\u001b[0m, in \u001b[0;36mcassandra.cluster.ResponseFuture.result\u001b[0;34m()\u001b[0m\n",
      "\u001b[0;31mInvalidRequest\u001b[0m: Error from server: code=2200 [Invalid query] message=\"PRIMARY KEY column \"email\" cannot be restricted as preceding column \"n_killed\" is not restricted\""
     ]
    }
   ],
   "source": [
    "kill_monster(session, event_id, email, monster_id)"
   ]
  },
  {
   "cell_type": "markdown",
   "metadata": {},
   "source": [
    "## Cerramos conexión"
   ]
  },
  {
   "cell_type": "code",
   "execution_count": 9,
   "metadata": {},
   "outputs": [],
   "source": [
    "# Cerrar la conexión\n",
    "cluster.shutdown()"
   ]
  }
 ],
 "metadata": {
  "kernelspec": {
   "display_name": "python3.12",
   "language": "python",
   "name": "python3"
  },
  "language_info": {
   "codemirror_mode": {
    "name": "ipython",
    "version": 3
   },
   "file_extension": ".py",
   "mimetype": "text/x-python",
   "name": "python",
   "nbconvert_exporter": "python",
   "pygments_lexer": "ipython3",
   "version": "3.12.3"
  }
 },
 "nbformat": 4,
 "nbformat_minor": 2
}
