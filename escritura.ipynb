{
 "cells": [
  {
   "cell_type": "markdown",
   "metadata": {},
   "source": [
    "## Conectar a la base de datos"
   ]
  },
  {
   "cell_type": "code",
   "execution_count": null,
   "metadata": {},
   "outputs": [],
   "source": [
    "from cassandra.cluster import Cluster\n",
    "from cassandra.auth import PlainTextAuthProvider\n",
    "\n",
    "# Opcional: Agregar autenticación si es necesario\n",
    "# auth_provider = PlainTextAuthProvider(username='cassandra', password='cassandra')\n",
    "\n",
    "# Conexión al clúster de Cassandra con los nombres de host de tus nodos\n",
    "cluster = Cluster(['127.0.0.1'], port=9042)#, auth_provider=auth_provider)\n",
    "\n",
    "# Crear una sesión\n",
    "session = cluster.connect()\n",
    "\n",
    "# Seleccionar el keyspace (si ya tienes uno creado)\n",
    "session.set_keyspace('videojuego')"
   ]
  },
  {
   "cell_type": "markdown",
   "metadata": {},
   "source": [
    "## User finish dungeon"
   ]
  },
  {
   "cell_type": "code",
   "execution_count": null,
   "metadata": {},
   "outputs": [],
   "source": [
    "# Entrada\n",
    "dungeon_id: int = 0\n",
    "date: str = '2020-04-18 04:46:20'\n",
    "time_minutes: float = 2 \n",
    "email: str = 'aaoki@example.com'"
   ]
  },
  {
   "cell_type": "code",
   "execution_count": null,
   "metadata": {},
   "outputs": [],
   "source": [
    "def finish_dungeon(session, dungeon_id, date, time_minutes, email):\n",
    "    # Establecer consistencia más fuerte\n",
    "    session.default_consistency_level = \"ALL\"\n",
    "\n",
    "    # Hall of Fame\n",
    "    rows = session.execute('SELECT Email, Tiempo, Nombre_mazmorra FROM Hall_of_fame WHERE Mazmorra_id=%s', (dungeon_id))\n",
    "    Nombre_mazmorra = rows[0][2]\n",
    "    min_time = time_minutes\n",
    "    min_row = None\n",
    "\n",
    "    for row in rows:  # Buscar el peor tiempo en el Top 5\n",
    "        if row[1] > min_time:\n",
    "            min_row = row\n",
    "            min_time = row.Tiempo\n",
    "\n",
    "    if min_row is not None:  # Si entra en el Top 5\n",
    "        # Eliminar el tiempo más alto (el peor tiempo en el Top 5)\n",
    "        delete_query = 'DELETE FROM Hall_of_fame WHERE Mazmorra_id=%s AND Email=%s'\n",
    "        session.execute(delete_query, (dungeon_id, min_row.Email))\n",
    "\n",
    "        # Insertar el nuevo tiempo\n",
    "        datos_user = session.execute('SELECT Pais, Nombre_usuario FROM Usuarios WHERE Email=%s', (email))\n",
    "        pais, nombre = datos_user[0]\n",
    "\n",
    "        insert_query = 'INSERT INTO Hall_of_fame (Pais, Mazmorra_id, Email, Nombre_usuario, Tiempo, Fecha, Nombre_mazmorra) VALUES (%s, %s, %s, %s, %s, %s, %s)'\n",
    "        session.execute(insert_query, (pais, dungeon_id, email, nombre, time_minutes, date, Nombre_mazmorra))\n",
    "        print('Quitamos último, metemos al nuevo')\n",
    "    else:\n",
    "        print('No está en top 5')\n",
    "\n",
    "\n",
    "    # Estadísticas\n",
    "    insert_query = 'INSERT INTO Estadisticas (Email, Mazmorra_id, Tiempo, Fecha) VALUES (%s, %s, %s, %s)'\n",
    "    session.execute(insert_query, (email, dungeon_id, time_minutes, date))\n",
    "    print('estadísticas actualizadas')\n"
   ]
  },
  {
   "cell_type": "markdown",
   "metadata": {},
   "source": [
    "## User kills monster during Horde event"
   ]
  },
  {
   "cell_type": "code",
   "execution_count": null,
   "metadata": {},
   "outputs": [],
   "source": [
    "# Entrada\n",
    "event_id: int =  0\n",
    "email: str = 'aaoki@example.com'\n",
    "monster_id = 2"
   ]
  },
  {
   "cell_type": "code",
   "execution_count": null,
   "metadata": {},
   "outputs": [],
   "source": [
    "def kill_monster(session, event_id, email, monster_id):\n",
    "    # Establecer consistencia baja para maximizar la velocidad\n",
    "    session.default_consistency_level = \"ANY\"\n",
    "    # Obtener la información del usuario desde la tabla Usuarios\n",
    "    datos_user = session.execute('SELECT Pais, Nombre_usuario FROM Usuarios WHERE Email=%s', (email,))\n",
    "    if not datos_user:\n",
    "        print(\"No se encontró al usuario con el email proporcionado.\")\n",
    "        return\n",
    "    \n",
    "    pais, nombre = datos_user[0]  # Recuperar el país y nombre del usuario\n",
    "\n",
    "    # Incrementar el contador de kills en la tabla Top_horde\n",
    "    # Si el registro ya existe, usamos UPDATE, si no, INSERTAMOS un nuevo registro.\n",
    "    query_check = 'SELECT N_killed FROM Top_horde WHERE Evento_id=%s AND Pais=%s AND Email=%s'\n",
    "    rows = session.execute(query_check, (event_id, pais, email))\n",
    "\n",
    "    if rows:  # Si ya existe el registro, incrementamos N_killed\n",
    "        current_kills = rows[0].N_killed\n",
    "        # Eliminar la fila existente\n",
    "        query_delete = 'DELETE FROM Top_horde WHERE Evento_id=%s AND Pais=%s AND Email=%s'\n",
    "        session.execute(query_delete, (event_id, pais, email))\n",
    "        # Insertar una nueva fila con el valor actualizado\n",
    "        query_insert = 'INSERT INTO Top_horde (Evento_id, Pais, Email, N_killed, Nombre_usuario) VALUES (%s, %s, %s, %s)'\n",
    "        session.execute(query_insert, (event_id, pais, email, current_kills + 1, nombre))\n",
    "\n",
    "        print(\"Incrementamos el contador de kills en Top_horde.\")\n",
    "    else:  # Si no existe, lo creamos con un INSERT\n",
    "        query_insert = 'INSERT INTO Top_horde (Evento_id, Pais, N_killed, Email, Nombre_usuario) VALUES (%s, %s, %s, %s, %s)'\n",
    "        session.execute(query_insert, (event_id, pais, 1, email, nombre))\n",
    "        print(\"Añadimos un nuevo registro en Top_horde con el primer kill.\")\n",
    "\n",
    "    # Mensaje de confirmación\n",
    "    print('Añadimos la kill para el usuario:', email)"
   ]
  },
  {
   "cell_type": "markdown",
   "metadata": {},
   "source": [
    "## Cerramos conexión"
   ]
  },
  {
   "cell_type": "code",
   "execution_count": null,
   "metadata": {},
   "outputs": [],
   "source": [
    "# Cerrar la conexión\n",
    "cluster.shutdown()"
   ]
  }
 ],
 "metadata": {
  "language_info": {
   "name": "python"
  }
 },
 "nbformat": 4,
 "nbformat_minor": 2
}
